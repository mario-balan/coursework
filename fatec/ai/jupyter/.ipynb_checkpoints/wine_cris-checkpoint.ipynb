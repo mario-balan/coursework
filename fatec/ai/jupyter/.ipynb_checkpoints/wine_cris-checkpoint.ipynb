{
 "cells": [
  {
   "cell_type": "code",
   "execution_count": 1,
   "metadata": {},
   "outputs": [],
   "source": [
    "# numpy para calculos matematicos mais precisos\n",
    "# pandas = para trabalhar com o arquivo cvs,xls\n",
    "# sklearn importar o classificador de previsao\n",
    "# sklearn.model_selection = dividir conjuntos de dados em treinamento e teste\n",
    "# sklearn preprocessing = pre-processar dados antes de ajustar ao preditor\n",
    "# tree para classificar arvore de decisao p/ previsao\n",
    "import numpy as np\n",
    "import pandas as pd\n",
    "from sklearn.model_selection import train_test_split\n",
    "from sklearn import preprocessing\n",
    "from sklearn import tree"
   ]
  },
  {
   "cell_type": "code",
   "execution_count": 2,
   "metadata": {},
   "outputs": [
    {
     "data": {
      "text/html": [
       "<div>\n",
       "<style scoped>\n",
       "    .dataframe tbody tr th:only-of-type {\n",
       "        vertical-align: middle;\n",
       "    }\n",
       "\n",
       "    .dataframe tbody tr th {\n",
       "        vertical-align: top;\n",
       "    }\n",
       "\n",
       "    .dataframe thead th {\n",
       "        text-align: right;\n",
       "    }\n",
       "</style>\n",
       "<table border=\"1\" class=\"dataframe\">\n",
       "  <thead>\n",
       "    <tr style=\"text-align: right;\">\n",
       "      <th></th>\n",
       "      <th>fixed.acidity</th>\n",
       "      <th>volatile.acidity</th>\n",
       "      <th>citric.acid</th>\n",
       "      <th>residual.sugar</th>\n",
       "      <th>chlorides</th>\n",
       "      <th>free.sulfur.dioxide</th>\n",
       "      <th>total.sulfur.dioxide</th>\n",
       "      <th>density</th>\n",
       "      <th>pH</th>\n",
       "      <th>sulphates</th>\n",
       "      <th>alcohol</th>\n",
       "      <th>quality</th>\n",
       "    </tr>\n",
       "  </thead>\n",
       "  <tbody>\n",
       "    <tr>\n",
       "      <th>0</th>\n",
       "      <td>7.1</td>\n",
       "      <td>0.33</td>\n",
       "      <td>0.30</td>\n",
       "      <td>3.3</td>\n",
       "      <td>0.034</td>\n",
       "      <td>30.0</td>\n",
       "      <td>102.0</td>\n",
       "      <td>0.9912</td>\n",
       "      <td>3.08</td>\n",
       "      <td>0.31</td>\n",
       "      <td>12.3</td>\n",
       "      <td>1</td>\n",
       "    </tr>\n",
       "    <tr>\n",
       "      <th>1</th>\n",
       "      <td>6.0</td>\n",
       "      <td>0.39</td>\n",
       "      <td>0.17</td>\n",
       "      <td>12.0</td>\n",
       "      <td>0.046</td>\n",
       "      <td>65.0</td>\n",
       "      <td>246.0</td>\n",
       "      <td>0.9976</td>\n",
       "      <td>3.15</td>\n",
       "      <td>0.38</td>\n",
       "      <td>9.0</td>\n",
       "      <td>0</td>\n",
       "    </tr>\n",
       "    <tr>\n",
       "      <th>2</th>\n",
       "      <td>7.9</td>\n",
       "      <td>0.18</td>\n",
       "      <td>0.49</td>\n",
       "      <td>5.2</td>\n",
       "      <td>0.051</td>\n",
       "      <td>36.0</td>\n",
       "      <td>157.0</td>\n",
       "      <td>0.9953</td>\n",
       "      <td>3.18</td>\n",
       "      <td>0.48</td>\n",
       "      <td>10.6</td>\n",
       "      <td>0</td>\n",
       "    </tr>\n",
       "    <tr>\n",
       "      <th>3</th>\n",
       "      <td>6.2</td>\n",
       "      <td>0.28</td>\n",
       "      <td>0.51</td>\n",
       "      <td>7.9</td>\n",
       "      <td>0.056</td>\n",
       "      <td>49.0</td>\n",
       "      <td>206.0</td>\n",
       "      <td>0.9956</td>\n",
       "      <td>3.18</td>\n",
       "      <td>0.52</td>\n",
       "      <td>9.4</td>\n",
       "      <td>0</td>\n",
       "    </tr>\n",
       "    <tr>\n",
       "      <th>4</th>\n",
       "      <td>7.0</td>\n",
       "      <td>0.50</td>\n",
       "      <td>0.25</td>\n",
       "      <td>2.0</td>\n",
       "      <td>0.070</td>\n",
       "      <td>3.0</td>\n",
       "      <td>22.0</td>\n",
       "      <td>0.9963</td>\n",
       "      <td>3.25</td>\n",
       "      <td>0.63</td>\n",
       "      <td>9.2</td>\n",
       "      <td>0</td>\n",
       "    </tr>\n",
       "  </tbody>\n",
       "</table>\n",
       "</div>"
      ],
      "text/plain": [
       "   fixed.acidity  volatile.acidity  citric.acid  residual.sugar  chlorides  \\\n",
       "0            7.1              0.33         0.30             3.3      0.034   \n",
       "1            6.0              0.39         0.17            12.0      0.046   \n",
       "2            7.9              0.18         0.49             5.2      0.051   \n",
       "3            6.2              0.28         0.51             7.9      0.056   \n",
       "4            7.0              0.50         0.25             2.0      0.070   \n",
       "\n",
       "   free.sulfur.dioxide  total.sulfur.dioxide  density    pH  sulphates  \\\n",
       "0                 30.0                 102.0   0.9912  3.08       0.31   \n",
       "1                 65.0                 246.0   0.9976  3.15       0.38   \n",
       "2                 36.0                 157.0   0.9953  3.18       0.48   \n",
       "3                 49.0                 206.0   0.9956  3.18       0.52   \n",
       "4                  3.0                  22.0   0.9963  3.25       0.63   \n",
       "\n",
       "   alcohol  quality  \n",
       "0     12.3        1  \n",
       "1      9.0        0  \n",
       "2     10.6        0  \n",
       "3      9.4        0  \n",
       "4      9.2        0  "
      ]
     },
     "execution_count": 2,
     "metadata": {},
     "output_type": "execute_result"
    }
   ],
   "source": [
    "# utilizando o conjunto de dados disposto pelo dataset\n",
    "# pd.read_csv importando o csv\n",
    "\n",
    "df = pd.read_csv('./winedata/wineQuality_train.data')\n",
    "df.head()"
   ]
  },
  {
   "cell_type": "code",
   "execution_count": 3,
   "metadata": {},
   "outputs": [],
   "source": [
    "# separando os recursos(demais atributos) e o rotulo(qualidade)\n",
    "# em y os de qualidade e em x os demais\n",
    "y = df.quality\n",
    "X = df.drop('quality', axis=1)"
   ]
  },
  {
   "cell_type": "code",
   "execution_count": 4,
   "metadata": {},
   "outputs": [],
   "source": [
    "# atribuindo os dados do conjunto de teste e treinamento \n",
    "# usamos os dados do treino para treinar o modelo a fazer a previsão de qualidade\n",
    "# os dados de teste utilizados para verificar os valores previstos\n",
    "# dividindo os dados(train_test_split) = 20% teste\n",
    "#\n",
    "X_train, X_test, y_train, y_test = train_test_split(X,y,test_size=0.2)"
   ]
  },
  {
   "cell_type": "code",
   "execution_count": 5,
   "metadata": {},
   "outputs": [
    {
     "name": "stdout",
     "output_type": "stream",
     "text": [
      "      fixed.acidity  volatile.acidity  citric.acid  residual.sugar  chlorides  \\\n",
      "2881            5.9              0.21         0.24            12.1      0.044   \n",
      "455             9.2              0.67         0.10             3.0      0.091   \n",
      "2446            8.9              0.62         0.18             3.8      0.176   \n",
      "535             6.7              0.21         0.42             9.1      0.049   \n",
      "1399            6.7              0.18         0.28            10.2      0.039   \n",
      "\n",
      "      free.sulfur.dioxide  total.sulfur.dioxide  density    pH  sulphates  \\\n",
      "2881                 53.0                 165.0  0.99690  3.25       0.39   \n",
      "455                  12.0                  48.0  0.99888  3.31       0.54   \n",
      "2446                 52.0                 145.0  0.99860  3.16       0.88   \n",
      "535                  31.0                 150.0  0.99530  3.12       0.74   \n",
      "1399                 29.0                 115.0  0.99469  3.11       0.45   \n",
      "\n",
      "      alcohol  \n",
      "2881      9.5  \n",
      "455       9.5  \n",
      "2446      9.2  \n",
      "535       9.9  \n",
      "1399     10.9  \n"
     ]
    }
   ],
   "source": [
    "#imprimindo os 5 primeiros\n",
    "print(X_train.head())"
   ]
  },
  {
   "cell_type": "code",
   "execution_count": 6,
   "metadata": {},
   "outputs": [
    {
     "name": "stdout",
     "output_type": "stream",
     "text": [
      "[[-1.02107393 -0.7660221  -0.51481344 ...  0.18698302 -0.93129988\n",
      "  -0.81739622]\n",
      " [ 1.59583574  1.97669212 -1.47785765 ...  0.55872354  0.05669847\n",
      "  -0.81739622]\n",
      " [ 1.35793486  1.67857101 -0.92754667 ... -0.37062776  2.2961614\n",
      "  -1.07203289]\n",
      " ...\n",
      " [ 1.43723515  2.87105545 -1.20270216 ...  1.05437757  0.64949748\n",
      "  -0.56275956]\n",
      " [-1.10037422 -0.64677365 -0.72118006 ...  0.49676678  0.25429814\n",
      "   0.45578711]\n",
      " [-0.14877071  0.96308034 -0.44602457 ...  0.18698302  0.64949748\n",
      "  -1.07203289]]\n"
     ]
    }
   ],
   "source": [
    "# Normalização de dados\n",
    "# pre-processamento converte os dados no intervalo de -1 a 1( valores entendidos por um algoritmo de aprendizado de máquina)\n",
    "\n",
    "X_train_scaled = preprocessing.scale (X_train)\n",
    "print (X_train_scaled)"
   ]
  },
  {
   "cell_type": "code",
   "execution_count": 7,
   "metadata": {},
   "outputs": [
    {
     "data": {
      "text/plain": [
       "DecisionTreeClassifier(class_weight=None, criterion='gini', max_depth=None,\n",
       "                       max_features=None, max_leaf_nodes=None,\n",
       "                       min_impurity_decrease=0.0, min_impurity_split=None,\n",
       "                       min_samples_leaf=1, min_samples_split=2,\n",
       "                       min_weight_fraction_leaf=0.0, presort=False,\n",
       "                       random_state=None, splitter='best')"
      ]
     },
     "execution_count": 7,
     "metadata": {},
     "output_type": "execute_result"
    }
   ],
   "source": [
    "# Treinando o algoritmo\n",
    "# Importa com um Decision e treina com o fit.\n",
    "clf = tree.DecisionTreeClassifier()\n",
    "clf.fit(X_train, y_train)"
   ]
  },
  {
   "cell_type": "code",
   "execution_count": 8,
   "metadata": {},
   "outputs": [
    {
     "name": "stdout",
     "output_type": "stream",
     "text": [
      "\n",
      "The confidence score:\n",
      "\n",
      "0.8038461538461539\n"
     ]
    }
   ],
   "source": [
    "# Verificando a pontuação de eficiência - confiança (score)\n",
    "confidence = clf.score(X_test,y_test)\n",
    "print(\"\\nThe confidence score:\\n\")\n",
    "print(confidence)"
   ]
  },
  {
   "cell_type": "code",
   "execution_count": 9,
   "metadata": {},
   "outputs": [],
   "source": [
    "# previsão de dados - obtendo os rotulos (predict)\n",
    "y_pred = clf.predict(X_test)"
   ]
  },
  {
   "cell_type": "code",
   "execution_count": 10,
   "metadata": {},
   "outputs": [
    {
     "name": "stdout",
     "output_type": "stream",
     "text": [
      "\n",
      "The prediction:\n",
      "\n",
      "0\n",
      "0\n",
      "0\n",
      "0\n",
      "0\n",
      "\n",
      "The expectation:\n",
      "\n",
      "53      0\n",
      "3771    0\n",
      "1373    0\n",
      "1952    0\n",
      "2768    0\n",
      "Name: quality, dtype: int64\n"
     ]
    }
   ],
   "source": [
    "#convertendo a matriz(array) numpy para listar\n",
    "x=np.array(y_pred).tolist()\n",
    "\n",
    "# Imprimindo as 5 primeiras predições\n",
    "print(\"\\nThe prediction:\\n\")\n",
    "for i in range(0,5):\n",
    "        print (x[i])\n",
    "    \n",
    "#Imprimindo as 5 primeiras expectativas\n",
    "print(\"\\nThe expectation:\\n\")\n",
    "print (y_test.head())"
   ]
  },
  {
   "cell_type": "code",
   "execution_count": 15,
   "metadata": {},
   "outputs": [
    {
     "data": {
      "text/plain": [
       "0.8435897435897436"
      ]
     },
     "execution_count": 15,
     "metadata": {},
     "output_type": "execute_result"
    }
   ],
   "source": [
    "# Mário testando com o SVM:\n",
    "from sklearn import svm\n",
    "\n",
    "model = svm.SVC(gamma=0.9, kernel='rbf')\n",
    "model.fit(X_train, y_train)\n",
    "model.score(X_test, y_test)"
   ]
  },
  {
   "cell_type": "code",
   "execution_count": null,
   "metadata": {},
   "outputs": [],
   "source": []
  }
 ],
 "metadata": {
  "kernelspec": {
   "display_name": "Python 3",
   "language": "python",
   "name": "python3"
  },
  "language_info": {
   "codemirror_mode": {
    "name": "ipython",
    "version": 3
   },
   "file_extension": ".py",
   "mimetype": "text/x-python",
   "name": "python",
   "nbconvert_exporter": "python",
   "pygments_lexer": "ipython3",
   "version": "3.5.3"
  }
 },
 "nbformat": 4,
 "nbformat_minor": 2
}
