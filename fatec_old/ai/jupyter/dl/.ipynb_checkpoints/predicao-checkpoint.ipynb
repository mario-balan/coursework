{
 "cells": [
  {
   "cell_type": "markdown",
   "metadata": {},
   "source": [
    "# Exemplo de Rede Neural com Keras e 'mnist' (continuação)\n",
    "\n",
    "- neste segundo notebook são realizados alguns testes com o modelo obtido no treinamento do notebook anterior.\n",
    "- foram carregadas cinco imagens geradas digitalmente sobre a qual foram feitas as previsões."
   ]
  },
  {
   "cell_type": "code",
   "execution_count": 1,
   "metadata": {},
   "outputs": [
    {
     "name": "stderr",
     "output_type": "stream",
     "text": [
      "Using TensorFlow backend.\n"
     ]
    }
   ],
   "source": [
    "from keras.models import load_model\n",
    "from keras.preprocessing.image import img_to_array, load_img\n",
    "import numpy as np\n",
    "import silence_tensorflow"
   ]
  },
  {
   "cell_type": "markdown",
   "metadata": {},
   "source": [
    "#### Carregamento do modelo:"
   ]
  },
  {
   "cell_type": "code",
   "execution_count": 3,
   "metadata": {},
   "outputs": [],
   "source": [
    "model_predict = load_model('model.h5')"
   ]
  },
  {
   "cell_type": "markdown",
   "metadata": {},
   "source": [
    "### Primeiro teste:\n",
    "\n",
    "#### Carregamento da primeira imagem de exemplo:"
   ]
  },
  {
   "cell_type": "code",
   "execution_count": 4,
   "metadata": {},
   "outputs": [],
   "source": [
    "img_path = './img01.jpeg'"
   ]
  },
  {
   "cell_type": "markdown",
   "metadata": {},
   "source": [
    "#### está é a imagem carregada para img_path:"
   ]
  },
  {
   "cell_type": "code",
   "execution_count": 5,
   "metadata": {},
   "outputs": [
    {
     "data": {
      "image/png": "[encoded data removed]",
      "text/plain": [
       "<PIL.JpegImagePlugin.JpegImageFile image mode=RGB size=29x51 at 0x7F4EAD1F9D30>"
      ]
     },
     "metadata": {},
     "output_type": "display_data"
    }
   ],
   "source": [
    "from PIL import Image\n",
    "from IPython.display import display\n",
    "pil_im =Image.open(img_path)\n",
    "display(pil_im)"
   ]
  },
  {
   "cell_type": "markdown",
   "metadata": {},
   "source": [
    "#### Tratamento da Imagem para que se adeque ao padrão do dataset de treino:\n",
    "\n",
    "- conversão em 28x28.\n",
    "- conversão para vetor de 784 pixels.\n",
    "- inclusão da imagem em uma lista (os modelos do Keras são otimizados para processamento em lotes, então o procedimento é necessário mesmo que estejamos lidando com apenas uma única imagem)."
   ]
  },
  {
   "cell_type": "code",
   "execution_count": 6,
   "metadata": {},
   "outputs": [
    {
     "name": "stderr",
     "output_type": "stream",
     "text": [
      "/usr/local/lib/python3.5/dist-packages/keras_preprocessing/image/utils.py:104: UserWarning: grayscale is deprecated. Please use color_mode = \"grayscale\"\n",
      "  warnings.warn('grayscale is deprecated. Please use '\n"
     ]
    }
   ],
   "source": [
    "img = load_img(img_path, True, target_size = (28,28))\n",
    "img = img_to_array(img)\n",
    "img = np.expand_dims(img, axis=0)"
   ]
  },
  {
   "cell_type": "markdown",
   "metadata": {},
   "source": [
    "#### Predição da classe à qual a imagem tem maior chance de pertencer:"
   ]
  },
  {
   "cell_type": "code",
   "execution_count": 7,
   "metadata": {},
   "outputs": [
    {
     "data": {
      "text/plain": [
       "array([8])"
      ]
     },
     "execution_count": 7,
     "metadata": {},
     "output_type": "execute_result"
    }
   ],
   "source": [
    "model_predict.predict_classes(img)"
   ]
  },
  {
   "cell_type": "markdown",
   "metadata": {},
   "source": [
    "#### Probalidade de pertencimento a cada uma das classes:"
   ]
  },
  {
   "cell_type": "code",
   "execution_count": 8,
   "metadata": {},
   "outputs": [
    {
     "data": {
      "text/plain": [
       "array([[0., 0., 0., 0., 0., 0., 0., 0., 1., 0.]], dtype=float32)"
      ]
     },
     "execution_count": 8,
     "metadata": {},
     "output_type": "execute_result"
    }
   ],
   "source": [
    "model_predict.predict_proba(img)"
   ]
  },
  {
   "cell_type": "markdown",
   "metadata": {},
   "source": [
    "### Outros testes:\n",
    "- mostramos apenas a imagem e a chance de pertecimento a cada uma das classes.\n",
    "\n",
    "#### Segundo teste:\n",
    "- a imagem é identificada corretamente (note-se uma change ínfima de poder ser considerada um 6)."
   ]
  },
  {
   "cell_type": "code",
   "execution_count": 24,
   "metadata": {},
   "outputs": [
    {
     "data": {
      "image/png": "[encoded data removed]",
      "text/plain": [
       "<PIL.JpegImagePlugin.JpegImageFile image mode=RGB size=32x48 at 0x7F4E847F0748>"
      ]
     },
     "metadata": {},
     "output_type": "display_data"
    },
    {
     "data": {
      "text/plain": [
       "array([[0.000000e+00, 0.000000e+00, 0.000000e+00, 0.000000e+00,\n",
       "        1.000000e+00, 0.000000e+00, 4.535768e-28, 0.000000e+00,\n",
       "        0.000000e+00, 0.000000e+00]], dtype=float32)"
      ]
     },
     "execution_count": 24,
     "metadata": {},
     "output_type": "execute_result"
    }
   ],
   "source": [
    "img_path = './img03.jpeg'\n",
    "img = load_img(img_path, True, target_size = (28,28))\n",
    "img = img_to_array(img)\n",
    "img = np.expand_dims(img, axis=0)\n",
    "pil_im =Image.open(img_path)\n",
    "display(pil_im)\n",
    "model_predict.predict_classes(img)\n",
    "model_predict.predict_proba(img)"
   ]
  },
  {
   "cell_type": "markdown",
   "metadata": {},
   "source": [
    "#### Terceiro teste:\n",
    "- a imagem é identificada corretamente."
   ]
  },
  {
   "cell_type": "code",
   "execution_count": 16,
   "metadata": {},
   "outputs": [
    {
     "data": {
      "image/png": "[encoded data removed]",
      "text/plain": [
       "<PIL.JpegImagePlugin.JpegImageFile image mode=RGB size=34x47 at 0x7F4E847F0D30>"
      ]
     },
     "metadata": {},
     "output_type": "display_data"
    },
    {
     "data": {
      "text/plain": [
       "array([[0., 0., 1., 0., 0., 0., 0., 0., 0., 0.]], dtype=float32)"
      ]
     },
     "execution_count": 16,
     "metadata": {},
     "output_type": "execute_result"
    }
   ],
   "source": [
    "img_path = './img04.jpeg'\n",
    "img = load_img(img_path, True, target_size = (28,28))\n",
    "img = img_to_array(img)\n",
    "img = np.expand_dims(img, axis=0)\n",
    "pil_im =Image.open(img_path)\n",
    "display(pil_im)\n",
    "model_predict.predict_classes(img)\n",
    "model_predict.predict_proba(img)"
   ]
  },
  {
   "cell_type": "markdown",
   "metadata": {},
   "source": [
    "#### Quarto teste:\n",
    "- a imagem é identificada corretamente."
   ]
  },
  {
   "cell_type": "code",
   "execution_count": 17,
   "metadata": {},
   "outputs": [
    {
     "data": {
      "image/png": "[encoded data removed]",
      "text/plain": [
       "<PIL.JpegImagePlugin.JpegImageFile image mode=RGB size=40x52 at 0x7F4E847F0898>"
      ]
     },
     "metadata": {},
     "output_type": "display_data"
    },
    {
     "data": {
      "text/plain": [
       "array([[1., 0., 0., 0., 0., 0., 0., 0., 0., 0.]], dtype=float32)"
      ]
     },
     "execution_count": 17,
     "metadata": {},
     "output_type": "execute_result"
    }
   ],
   "source": [
    "img_path = './img05.jpeg'\n",
    "img = load_img(img_path, True, target_size = (28,28))\n",
    "img = img_to_array(img)\n",
    "img = np.expand_dims(img, axis=0)\n",
    "pil_im =Image.open(img_path)\n",
    "display(pil_im)\n",
    "model_predict.predict_classes(img)\n",
    "model_predict.predict_proba(img)"
   ]
  },
  {
   "cell_type": "markdown",
   "metadata": {},
   "source": [
    "#### Último teste:\n",
    "- a imagem não é identificada corretamente (o número '7' é identificado como sendo um número '1').\n",
    "- creditamos a falha ao fato de estarmos utilizando imagens geradas digitalmente."
   ]
  },
  {
   "cell_type": "code",
   "execution_count": 22,
   "metadata": {},
   "outputs": [
    {
     "data": {
      "image/png": "[encoded data removed]",
      "text/plain": [
       "<PIL.JpegImagePlugin.JpegImageFile image mode=RGB size=34x43 at 0x7F4E847F0CF8>"
      ]
     },
     "metadata": {},
     "output_type": "display_data"
    },
    {
     "data": {
      "text/plain": [
       "array([[0., 1., 0., 0., 0., 0., 0., 0., 0., 0.]], dtype=float32)"
      ]
     },
     "execution_count": 22,
     "metadata": {},
     "output_type": "execute_result"
    }
   ],
   "source": [
    "img_path = './img02.jpeg'\n",
    "img = load_img(img_path, True, target_size = (28,28))\n",
    "img = img_to_array(img)\n",
    "img = np.expand_dims(img, axis=0)\n",
    "pil_im =Image.open(img_path)\n",
    "display(pil_im)\n",
    "model_predict.predict_proba(img)"
   ]
  }
 ],
 "metadata": {
  "kernelspec": {
   "display_name": "Python 3",
   "language": "python",
   "name": "python3"
  },
  "language_info": {
   "codemirror_mode": {
    "name": "ipython",
    "version": 3
   },
   "file_extension": ".py",
   "mimetype": "text/x-python",
   "name": "python",
   "nbconvert_exporter": "python",
   "pygments_lexer": "ipython3",
   "version": "3.5.3"
  }
 },
 "nbformat": 4,
 "nbformat_minor": 2
}
